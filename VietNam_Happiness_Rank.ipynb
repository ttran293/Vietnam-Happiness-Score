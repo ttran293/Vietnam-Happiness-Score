{
  "nbformat": 4,
  "nbformat_minor": 0,
  "metadata": {
    "colab": {
      "name": "VietNam_Happiness_Rank.ipynb",
      "provenance": [],
      "authorship_tag": "ABX9TyMBwONQiLYmuVKe40QRItBC"
    },
    "kernelspec": {
      "name": "python3",
      "display_name": "Python 3"
    },
    "language_info": {
      "name": "python"
    }
  },
  "cells": [
    {
      "cell_type": "code",
      "metadata": {
        "id": "a_GtN3RQjIwl"
      },
      "source": [
        "import pandas as pd\n",
        "import numpy as np\n",
        "\n",
        "import matplotlib.pyplot as plt \n",
        "import seaborn as sns \n",
        "import matplotlib as mpl\n",
        "from matplotlib.colors import LinearSegmentedColormap\n",
        "\n"
      ],
      "execution_count": 14,
      "outputs": []
    },
    {
      "cell_type": "code",
      "metadata": {
        "colab": {
          "base_uri": "https://localhost:8080/"
        },
        "id": "hnCkYFCWjyoh",
        "outputId": "c5bf00f1-c9bc-40ba-ddc1-a86e68eaa6d1"
      },
      "source": [
        "url = 'https://raw.githubusercontent.com/ttran293/Vietnam-Happiness-Score/main/world-happiness-report.csv'\n",
        "url2= 'https://raw.githubusercontent.com/ttran293/Vietnam-Happiness-Score/main/world-happiness-report-2021.csv'\n",
        "data = pd.read_csv(url)\n",
        "data_2021 = pd.read_csv(url2)\n",
        "print(data_2021)\n"
      ],
      "execution_count": 18,
      "outputs": [
        {
          "output_type": "stream",
          "name": "stdout",
          "text": [
            "    Country name  ... Dystopia + residual\n",
            "0        Finland  ...               3.253\n",
            "1        Denmark  ...               2.868\n",
            "2    Switzerland  ...               2.839\n",
            "3        Iceland  ...               2.967\n",
            "4    Netherlands  ...               2.798\n",
            "..           ...  ...                 ...\n",
            "144      Lesotho  ...               1.800\n",
            "145     Botswana  ...               0.648\n",
            "146       Rwanda  ...               1.095\n",
            "147     Zimbabwe  ...               1.205\n",
            "148  Afghanistan  ...               1.895\n",
            "\n",
            "[149 rows x 20 columns]\n"
          ]
        }
      ]
    },
    {
      "cell_type": "code",
      "metadata": {
        "colab": {
          "base_uri": "https://localhost:8080/",
          "height": 323
        },
        "id": "_25pjQNmnXWk",
        "outputId": "7679fb38-260c-4997-cbc2-86914b64aa2d"
      },
      "source": [
        "pd.set_option('display.max_rows', None)\n",
        "data_2021.head()"
      ],
      "execution_count": 19,
      "outputs": [
        {
          "output_type": "execute_result",
          "data": {
            "text/html": [
              "<div>\n",
              "<style scoped>\n",
              "    .dataframe tbody tr th:only-of-type {\n",
              "        vertical-align: middle;\n",
              "    }\n",
              "\n",
              "    .dataframe tbody tr th {\n",
              "        vertical-align: top;\n",
              "    }\n",
              "\n",
              "    .dataframe thead th {\n",
              "        text-align: right;\n",
              "    }\n",
              "</style>\n",
              "<table border=\"1\" class=\"dataframe\">\n",
              "  <thead>\n",
              "    <tr style=\"text-align: right;\">\n",
              "      <th></th>\n",
              "      <th>Country name</th>\n",
              "      <th>Regional indicator</th>\n",
              "      <th>Ladder score</th>\n",
              "      <th>Standard error of ladder score</th>\n",
              "      <th>upperwhisker</th>\n",
              "      <th>lowerwhisker</th>\n",
              "      <th>Logged GDP per capita</th>\n",
              "      <th>Social support</th>\n",
              "      <th>Healthy life expectancy</th>\n",
              "      <th>Freedom to make life choices</th>\n",
              "      <th>Generosity</th>\n",
              "      <th>Perceptions of corruption</th>\n",
              "      <th>Ladder score in Dystopia</th>\n",
              "      <th>Explained by: Log GDP per capita</th>\n",
              "      <th>Explained by: Social support</th>\n",
              "      <th>Explained by: Healthy life expectancy</th>\n",
              "      <th>Explained by: Freedom to make life choices</th>\n",
              "      <th>Explained by: Generosity</th>\n",
              "      <th>Explained by: Perceptions of corruption</th>\n",
              "      <th>Dystopia + residual</th>\n",
              "    </tr>\n",
              "  </thead>\n",
              "  <tbody>\n",
              "    <tr>\n",
              "      <th>0</th>\n",
              "      <td>Finland</td>\n",
              "      <td>Western Europe</td>\n",
              "      <td>7.842</td>\n",
              "      <td>0.032</td>\n",
              "      <td>7.904</td>\n",
              "      <td>7.780</td>\n",
              "      <td>10.775</td>\n",
              "      <td>0.954</td>\n",
              "      <td>72.0</td>\n",
              "      <td>0.949</td>\n",
              "      <td>-0.098</td>\n",
              "      <td>0.186</td>\n",
              "      <td>2.43</td>\n",
              "      <td>1.446</td>\n",
              "      <td>1.106</td>\n",
              "      <td>0.741</td>\n",
              "      <td>0.691</td>\n",
              "      <td>0.124</td>\n",
              "      <td>0.481</td>\n",
              "      <td>3.253</td>\n",
              "    </tr>\n",
              "    <tr>\n",
              "      <th>1</th>\n",
              "      <td>Denmark</td>\n",
              "      <td>Western Europe</td>\n",
              "      <td>7.620</td>\n",
              "      <td>0.035</td>\n",
              "      <td>7.687</td>\n",
              "      <td>7.552</td>\n",
              "      <td>10.933</td>\n",
              "      <td>0.954</td>\n",
              "      <td>72.7</td>\n",
              "      <td>0.946</td>\n",
              "      <td>0.030</td>\n",
              "      <td>0.179</td>\n",
              "      <td>2.43</td>\n",
              "      <td>1.502</td>\n",
              "      <td>1.108</td>\n",
              "      <td>0.763</td>\n",
              "      <td>0.686</td>\n",
              "      <td>0.208</td>\n",
              "      <td>0.485</td>\n",
              "      <td>2.868</td>\n",
              "    </tr>\n",
              "    <tr>\n",
              "      <th>2</th>\n",
              "      <td>Switzerland</td>\n",
              "      <td>Western Europe</td>\n",
              "      <td>7.571</td>\n",
              "      <td>0.036</td>\n",
              "      <td>7.643</td>\n",
              "      <td>7.500</td>\n",
              "      <td>11.117</td>\n",
              "      <td>0.942</td>\n",
              "      <td>74.4</td>\n",
              "      <td>0.919</td>\n",
              "      <td>0.025</td>\n",
              "      <td>0.292</td>\n",
              "      <td>2.43</td>\n",
              "      <td>1.566</td>\n",
              "      <td>1.079</td>\n",
              "      <td>0.816</td>\n",
              "      <td>0.653</td>\n",
              "      <td>0.204</td>\n",
              "      <td>0.413</td>\n",
              "      <td>2.839</td>\n",
              "    </tr>\n",
              "    <tr>\n",
              "      <th>3</th>\n",
              "      <td>Iceland</td>\n",
              "      <td>Western Europe</td>\n",
              "      <td>7.554</td>\n",
              "      <td>0.059</td>\n",
              "      <td>7.670</td>\n",
              "      <td>7.438</td>\n",
              "      <td>10.878</td>\n",
              "      <td>0.983</td>\n",
              "      <td>73.0</td>\n",
              "      <td>0.955</td>\n",
              "      <td>0.160</td>\n",
              "      <td>0.673</td>\n",
              "      <td>2.43</td>\n",
              "      <td>1.482</td>\n",
              "      <td>1.172</td>\n",
              "      <td>0.772</td>\n",
              "      <td>0.698</td>\n",
              "      <td>0.293</td>\n",
              "      <td>0.170</td>\n",
              "      <td>2.967</td>\n",
              "    </tr>\n",
              "    <tr>\n",
              "      <th>4</th>\n",
              "      <td>Netherlands</td>\n",
              "      <td>Western Europe</td>\n",
              "      <td>7.464</td>\n",
              "      <td>0.027</td>\n",
              "      <td>7.518</td>\n",
              "      <td>7.410</td>\n",
              "      <td>10.932</td>\n",
              "      <td>0.942</td>\n",
              "      <td>72.4</td>\n",
              "      <td>0.913</td>\n",
              "      <td>0.175</td>\n",
              "      <td>0.338</td>\n",
              "      <td>2.43</td>\n",
              "      <td>1.501</td>\n",
              "      <td>1.079</td>\n",
              "      <td>0.753</td>\n",
              "      <td>0.647</td>\n",
              "      <td>0.302</td>\n",
              "      <td>0.384</td>\n",
              "      <td>2.798</td>\n",
              "    </tr>\n",
              "  </tbody>\n",
              "</table>\n",
              "</div>"
            ],
            "text/plain": [
              "  Country name  ... Dystopia + residual\n",
              "0      Finland  ...               3.253\n",
              "1      Denmark  ...               2.868\n",
              "2  Switzerland  ...               2.839\n",
              "3      Iceland  ...               2.967\n",
              "4  Netherlands  ...               2.798\n",
              "\n",
              "[5 rows x 20 columns]"
            ]
          },
          "metadata": {},
          "execution_count": 19
        }
      ]
    },
    {
      "cell_type": "code",
      "metadata": {
        "colab": {
          "base_uri": "https://localhost:8080/"
        },
        "id": "XT6ZWPgenXIT",
        "outputId": "0e7cab09-6bfe-4c76-c003-05bde9676696"
      },
      "source": [
        "data_2021.shape\n"
      ],
      "execution_count": 23,
      "outputs": [
        {
          "output_type": "execute_result",
          "data": {
            "text/plain": [
              "(149, 20)"
            ]
          },
          "metadata": {},
          "execution_count": 23
        }
      ]
    },
    {
      "cell_type": "code",
      "metadata": {
        "colab": {
          "base_uri": "https://localhost:8080/",
          "height": 331
        },
        "id": "ARBFLvoLnmlP",
        "outputId": "686aa51a-4af1-47d0-d1dd-93e28a93489a"
      },
      "source": [
        "data_2021.describe()"
      ],
      "execution_count": 24,
      "outputs": [
        {
          "output_type": "execute_result",
          "data": {
            "text/html": [
              "<div>\n",
              "<style scoped>\n",
              "    .dataframe tbody tr th:only-of-type {\n",
              "        vertical-align: middle;\n",
              "    }\n",
              "\n",
              "    .dataframe tbody tr th {\n",
              "        vertical-align: top;\n",
              "    }\n",
              "\n",
              "    .dataframe thead th {\n",
              "        text-align: right;\n",
              "    }\n",
              "</style>\n",
              "<table border=\"1\" class=\"dataframe\">\n",
              "  <thead>\n",
              "    <tr style=\"text-align: right;\">\n",
              "      <th></th>\n",
              "      <th>Ladder score</th>\n",
              "      <th>Standard error of ladder score</th>\n",
              "      <th>upperwhisker</th>\n",
              "      <th>lowerwhisker</th>\n",
              "      <th>Logged GDP per capita</th>\n",
              "      <th>Social support</th>\n",
              "      <th>Healthy life expectancy</th>\n",
              "      <th>Freedom to make life choices</th>\n",
              "      <th>Generosity</th>\n",
              "      <th>Perceptions of corruption</th>\n",
              "      <th>Ladder score in Dystopia</th>\n",
              "      <th>Explained by: Log GDP per capita</th>\n",
              "      <th>Explained by: Social support</th>\n",
              "      <th>Explained by: Healthy life expectancy</th>\n",
              "      <th>Explained by: Freedom to make life choices</th>\n",
              "      <th>Explained by: Generosity</th>\n",
              "      <th>Explained by: Perceptions of corruption</th>\n",
              "      <th>Dystopia + residual</th>\n",
              "    </tr>\n",
              "  </thead>\n",
              "  <tbody>\n",
              "    <tr>\n",
              "      <th>count</th>\n",
              "      <td>149.000000</td>\n",
              "      <td>149.000000</td>\n",
              "      <td>149.000000</td>\n",
              "      <td>149.000000</td>\n",
              "      <td>149.000000</td>\n",
              "      <td>149.000000</td>\n",
              "      <td>149.000000</td>\n",
              "      <td>149.000000</td>\n",
              "      <td>149.000000</td>\n",
              "      <td>149.000000</td>\n",
              "      <td>1.490000e+02</td>\n",
              "      <td>149.000000</td>\n",
              "      <td>149.000000</td>\n",
              "      <td>149.000000</td>\n",
              "      <td>149.000000</td>\n",
              "      <td>149.000000</td>\n",
              "      <td>149.000000</td>\n",
              "      <td>149.000000</td>\n",
              "    </tr>\n",
              "    <tr>\n",
              "      <th>mean</th>\n",
              "      <td>5.532839</td>\n",
              "      <td>0.058752</td>\n",
              "      <td>5.648007</td>\n",
              "      <td>5.417631</td>\n",
              "      <td>9.432208</td>\n",
              "      <td>0.814745</td>\n",
              "      <td>64.992799</td>\n",
              "      <td>0.791597</td>\n",
              "      <td>-0.015134</td>\n",
              "      <td>0.727450</td>\n",
              "      <td>2.430000e+00</td>\n",
              "      <td>0.977161</td>\n",
              "      <td>0.793315</td>\n",
              "      <td>0.520161</td>\n",
              "      <td>0.498711</td>\n",
              "      <td>0.178047</td>\n",
              "      <td>0.135141</td>\n",
              "      <td>2.430329</td>\n",
              "    </tr>\n",
              "    <tr>\n",
              "      <th>std</th>\n",
              "      <td>1.073924</td>\n",
              "      <td>0.022001</td>\n",
              "      <td>1.054330</td>\n",
              "      <td>1.094879</td>\n",
              "      <td>1.158601</td>\n",
              "      <td>0.114889</td>\n",
              "      <td>6.762043</td>\n",
              "      <td>0.113332</td>\n",
              "      <td>0.150657</td>\n",
              "      <td>0.179226</td>\n",
              "      <td>5.347044e-15</td>\n",
              "      <td>0.404740</td>\n",
              "      <td>0.258871</td>\n",
              "      <td>0.213019</td>\n",
              "      <td>0.137888</td>\n",
              "      <td>0.098270</td>\n",
              "      <td>0.114361</td>\n",
              "      <td>0.537645</td>\n",
              "    </tr>\n",
              "    <tr>\n",
              "      <th>min</th>\n",
              "      <td>2.523000</td>\n",
              "      <td>0.026000</td>\n",
              "      <td>2.596000</td>\n",
              "      <td>2.449000</td>\n",
              "      <td>6.635000</td>\n",
              "      <td>0.463000</td>\n",
              "      <td>48.478000</td>\n",
              "      <td>0.382000</td>\n",
              "      <td>-0.288000</td>\n",
              "      <td>0.082000</td>\n",
              "      <td>2.430000e+00</td>\n",
              "      <td>0.000000</td>\n",
              "      <td>0.000000</td>\n",
              "      <td>0.000000</td>\n",
              "      <td>0.000000</td>\n",
              "      <td>0.000000</td>\n",
              "      <td>0.000000</td>\n",
              "      <td>0.648000</td>\n",
              "    </tr>\n",
              "    <tr>\n",
              "      <th>25%</th>\n",
              "      <td>4.852000</td>\n",
              "      <td>0.043000</td>\n",
              "      <td>4.991000</td>\n",
              "      <td>4.706000</td>\n",
              "      <td>8.541000</td>\n",
              "      <td>0.750000</td>\n",
              "      <td>59.802000</td>\n",
              "      <td>0.718000</td>\n",
              "      <td>-0.126000</td>\n",
              "      <td>0.667000</td>\n",
              "      <td>2.430000e+00</td>\n",
              "      <td>0.666000</td>\n",
              "      <td>0.647000</td>\n",
              "      <td>0.357000</td>\n",
              "      <td>0.409000</td>\n",
              "      <td>0.105000</td>\n",
              "      <td>0.060000</td>\n",
              "      <td>2.138000</td>\n",
              "    </tr>\n",
              "    <tr>\n",
              "      <th>50%</th>\n",
              "      <td>5.534000</td>\n",
              "      <td>0.054000</td>\n",
              "      <td>5.625000</td>\n",
              "      <td>5.413000</td>\n",
              "      <td>9.569000</td>\n",
              "      <td>0.832000</td>\n",
              "      <td>66.603000</td>\n",
              "      <td>0.804000</td>\n",
              "      <td>-0.036000</td>\n",
              "      <td>0.781000</td>\n",
              "      <td>2.430000e+00</td>\n",
              "      <td>1.025000</td>\n",
              "      <td>0.832000</td>\n",
              "      <td>0.571000</td>\n",
              "      <td>0.514000</td>\n",
              "      <td>0.164000</td>\n",
              "      <td>0.101000</td>\n",
              "      <td>2.509000</td>\n",
              "    </tr>\n",
              "    <tr>\n",
              "      <th>75%</th>\n",
              "      <td>6.255000</td>\n",
              "      <td>0.070000</td>\n",
              "      <td>6.344000</td>\n",
              "      <td>6.128000</td>\n",
              "      <td>10.421000</td>\n",
              "      <td>0.905000</td>\n",
              "      <td>69.600000</td>\n",
              "      <td>0.877000</td>\n",
              "      <td>0.079000</td>\n",
              "      <td>0.845000</td>\n",
              "      <td>2.430000e+00</td>\n",
              "      <td>1.323000</td>\n",
              "      <td>0.996000</td>\n",
              "      <td>0.665000</td>\n",
              "      <td>0.603000</td>\n",
              "      <td>0.239000</td>\n",
              "      <td>0.174000</td>\n",
              "      <td>2.794000</td>\n",
              "    </tr>\n",
              "    <tr>\n",
              "      <th>max</th>\n",
              "      <td>7.842000</td>\n",
              "      <td>0.173000</td>\n",
              "      <td>7.904000</td>\n",
              "      <td>7.780000</td>\n",
              "      <td>11.647000</td>\n",
              "      <td>0.983000</td>\n",
              "      <td>76.953000</td>\n",
              "      <td>0.970000</td>\n",
              "      <td>0.542000</td>\n",
              "      <td>0.939000</td>\n",
              "      <td>2.430000e+00</td>\n",
              "      <td>1.751000</td>\n",
              "      <td>1.172000</td>\n",
              "      <td>0.897000</td>\n",
              "      <td>0.716000</td>\n",
              "      <td>0.541000</td>\n",
              "      <td>0.547000</td>\n",
              "      <td>3.482000</td>\n",
              "    </tr>\n",
              "  </tbody>\n",
              "</table>\n",
              "</div>"
            ],
            "text/plain": [
              "       Ladder score  ...  Dystopia + residual\n",
              "count    149.000000  ...           149.000000\n",
              "mean       5.532839  ...             2.430329\n",
              "std        1.073924  ...             0.537645\n",
              "min        2.523000  ...             0.648000\n",
              "25%        4.852000  ...             2.138000\n",
              "50%        5.534000  ...             2.509000\n",
              "75%        6.255000  ...             2.794000\n",
              "max        7.842000  ...             3.482000\n",
              "\n",
              "[8 rows x 18 columns]"
            ]
          },
          "metadata": {},
          "execution_count": 24
        }
      ]
    },
    {
      "cell_type": "code",
      "metadata": {
        "colab": {
          "base_uri": "https://localhost:8080/"
        },
        "id": "oUE8ni7BnmQM",
        "outputId": "18901dce-8dad-4ce6-b0e5-19715d969fe7"
      },
      "source": [
        "data_2021.info()"
      ],
      "execution_count": 25,
      "outputs": [
        {
          "output_type": "stream",
          "name": "stdout",
          "text": [
            "<class 'pandas.core.frame.DataFrame'>\n",
            "RangeIndex: 149 entries, 0 to 148\n",
            "Data columns (total 20 columns):\n",
            " #   Column                                      Non-Null Count  Dtype  \n",
            "---  ------                                      --------------  -----  \n",
            " 0   Country name                                149 non-null    object \n",
            " 1   Regional indicator                          149 non-null    object \n",
            " 2   Ladder score                                149 non-null    float64\n",
            " 3   Standard error of ladder score              149 non-null    float64\n",
            " 4   upperwhisker                                149 non-null    float64\n",
            " 5   lowerwhisker                                149 non-null    float64\n",
            " 6   Logged GDP per capita                       149 non-null    float64\n",
            " 7   Social support                              149 non-null    float64\n",
            " 8   Healthy life expectancy                     149 non-null    float64\n",
            " 9   Freedom to make life choices                149 non-null    float64\n",
            " 10  Generosity                                  149 non-null    float64\n",
            " 11  Perceptions of corruption                   149 non-null    float64\n",
            " 12  Ladder score in Dystopia                    149 non-null    float64\n",
            " 13  Explained by: Log GDP per capita            149 non-null    float64\n",
            " 14  Explained by: Social support                149 non-null    float64\n",
            " 15  Explained by: Healthy life expectancy       149 non-null    float64\n",
            " 16  Explained by: Freedom to make life choices  149 non-null    float64\n",
            " 17  Explained by: Generosity                    149 non-null    float64\n",
            " 18  Explained by: Perceptions of corruption     149 non-null    float64\n",
            " 19  Dystopia + residual                         149 non-null    float64\n",
            "dtypes: float64(18), object(2)\n",
            "memory usage: 23.4+ KB\n"
          ]
        }
      ]
    },
    {
      "cell_type": "code",
      "metadata": {
        "id": "FJ8uc0dYnsyY"
      },
      "source": [
        ""
      ],
      "execution_count": null,
      "outputs": []
    },
    {
      "cell_type": "code",
      "metadata": {
        "id": "fUw-FYVjntf2"
      },
      "source": [
        ""
      ],
      "execution_count": null,
      "outputs": []
    },
    {
      "cell_type": "code",
      "metadata": {
        "id": "maae0ax_ntdw"
      },
      "source": [
        ""
      ],
      "execution_count": null,
      "outputs": []
    },
    {
      "cell_type": "code",
      "metadata": {
        "id": "ceCXDgxsntZ-"
      },
      "source": [
        ""
      ],
      "execution_count": null,
      "outputs": []
    },
    {
      "cell_type": "code",
      "metadata": {
        "id": "-uJb6Yo9ntXf"
      },
      "source": [
        ""
      ],
      "execution_count": null,
      "outputs": []
    },
    {
      "cell_type": "code",
      "metadata": {
        "id": "x-Wh2r-mntE-"
      },
      "source": [
        ""
      ],
      "execution_count": null,
      "outputs": []
    }
  ]
}